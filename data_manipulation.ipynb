{
 "cells": [
  {
   "cell_type": "code",
   "execution_count": 1,
   "metadata": {},
   "outputs": [],
   "source": [
    "import pandas as pd"
   ]
  },
  {
   "cell_type": "markdown",
   "metadata": {},
   "source": [
    "Along with reading in data, we will exclude obvious outliers.\n",
    "\n",
    "Some riders seem to have kept their bikes for weeks.  This is worthy of attention, but not for our purposes.  We will consider only duration periods less than 12 hours.\n",
    "\n",
    "Analysis has found 489 trips taken by riders over age 100; I am thinking that this is spurious.  It's not really very clear where the cutoff should be though.  I have chosen age 86.  (But see additional note for Summer 2017)\n",
    "\n",
    "These discards represent about .02% of the original total number of records (4.5% of records from August 1918, which also has a fair number of records without a birthyear filled in)."
   ]
  },
  {
   "cell_type": "code",
   "execution_count": 3,
   "metadata": {},
   "outputs": [
    {
     "name": "stderr",
     "output_type": "stream",
     "text": [
      "C:\\Users\\Laptop 1\\Anaconda3\\lib\\site-packages\\ipykernel_launcher.py:4: SettingWithCopyWarning: \n",
      "A value is trying to be set on a copy of a slice from a DataFrame.\n",
      "Try using .loc[row_indexer,col_indexer] = value instead\n",
      "\n",
      "See the caveats in the documentation: http://pandas.pydata.org/pandas-docs/stable/indexing.html#indexing-view-versus-copy\n",
      "  after removing the cwd from sys.path.\n",
      "C:\\Users\\Laptop 1\\Anaconda3\\lib\\site-packages\\ipykernel_launcher.py:5: SettingWithCopyWarning: \n",
      "A value is trying to be set on a copy of a slice from a DataFrame.\n",
      "Try using .loc[row_indexer,col_indexer] = value instead\n",
      "\n",
      "See the caveats in the documentation: http://pandas.pydata.org/pandas-docs/stable/indexing.html#indexing-view-versus-copy\n",
      "  \"\"\"\n",
      "C:\\Users\\Laptop 1\\Anaconda3\\lib\\site-packages\\ipykernel_launcher.py:10: SettingWithCopyWarning: \n",
      "A value is trying to be set on a copy of a slice from a DataFrame.\n",
      "Try using .loc[row_indexer,col_indexer] = value instead\n",
      "\n",
      "See the caveats in the documentation: http://pandas.pydata.org/pandas-docs/stable/indexing.html#indexing-view-versus-copy\n",
      "  # Remove the CWD from sys.path while we load stuff.\n",
      "C:\\Users\\Laptop 1\\Anaconda3\\lib\\site-packages\\ipykernel_launcher.py:11: SettingWithCopyWarning: \n",
      "A value is trying to be set on a copy of a slice from a DataFrame.\n",
      "Try using .loc[row_indexer,col_indexer] = value instead\n",
      "\n",
      "See the caveats in the documentation: http://pandas.pydata.org/pandas-docs/stable/indexing.html#indexing-view-versus-copy\n",
      "  # This is added back by InteractiveShellApp.init_path()\n",
      "C:\\Users\\Laptop 1\\Anaconda3\\lib\\site-packages\\ipykernel_launcher.py:16: SettingWithCopyWarning: \n",
      "A value is trying to be set on a copy of a slice from a DataFrame.\n",
      "Try using .loc[row_indexer,col_indexer] = value instead\n",
      "\n",
      "See the caveats in the documentation: http://pandas.pydata.org/pandas-docs/stable/indexing.html#indexing-view-versus-copy\n",
      "  app.launch_new_instance()\n",
      "C:\\Users\\Laptop 1\\Anaconda3\\lib\\site-packages\\ipykernel_launcher.py:17: SettingWithCopyWarning: \n",
      "A value is trying to be set on a copy of a slice from a DataFrame.\n",
      "Try using .loc[row_indexer,col_indexer] = value instead\n",
      "\n",
      "See the caveats in the documentation: http://pandas.pydata.org/pandas-docs/stable/indexing.html#indexing-view-versus-copy\n"
     ]
    }
   ],
   "source": [
    "# winter months\n",
    "x201712_df = pd.read_csv(\"201712-citibike-tripdata.csv\")\n",
    "x201712a_df =  x201712_df.loc[x201712_df[\"tripduration\"] < 43200, :]   # 12 hours\n",
    "x201712a_df[\"tripduration in minutes\"] =  x201712a_df[\"tripduration\"]/60;\n",
    "x201712a_df[\"age\"] =  2017 - x201712a_df[\"birth year\"]\n",
    "x201712a_df = x201712a_df.loc[x201712a_df[\"age\"] < 86, :]\n",
    "\n",
    "x201801_df = pd.read_csv(\"201801-citibike-tripdata.csv\")\n",
    "x201801a_df =  x201801_df.loc[x201801_df[\"tripduration\"] < 43200, :]   # 12 hours\n",
    "x201801a_df[\"tripduration in minutes\"] =  x201801a_df[\"tripduration\"]/60;\n",
    "x201801a_df[\"age\"] =  2018 - x201801a_df[\"birth year\"]\n",
    "x201801a_df = x201801a_df.loc[x201801a_df[\"age\"] < 86, :]\n",
    "\n",
    "x201802_df = pd.read_csv(\"201802-citibike-tripdata.csv\")\n",
    "x201802a_df =  x201802_df.loc[x201802_df[\"tripduration\"] < 43200, :]   # 12 hours\n",
    "x201802a_df[\"tripduration in minutes\"] =  x201802a_df[\"tripduration\"]/60;\n",
    "x201802a_df[\"age\"] =  2018 - x201802a_df[\"birth year\"]\n",
    "x201802a_df = x201802a_df.loc[x201802a_df[\"age\"] < 86, :]\n"
   ]
  },
  {
   "cell_type": "code",
   "execution_count": 21,
   "metadata": {},
   "outputs": [
    {
     "name": "stderr",
     "output_type": "stream",
     "text": [
      "C:\\Users\\Laptop 1\\Anaconda3\\lib\\site-packages\\ipykernel_launcher.py:9: SettingWithCopyWarning: \n",
      "A value is trying to be set on a copy of a slice from a DataFrame.\n",
      "Try using .loc[row_indexer,col_indexer] = value instead\n",
      "\n",
      "See the caveats in the documentation: http://pandas.pydata.org/pandas-docs/stable/indexing.html#indexing-view-versus-copy\n",
      "  if __name__ == '__main__':\n",
      "C:\\Users\\Laptop 1\\Anaconda3\\lib\\site-packages\\ipykernel_launcher.py:15: SettingWithCopyWarning: \n",
      "A value is trying to be set on a copy of a slice from a DataFrame.\n",
      "Try using .loc[row_indexer,col_indexer] = value instead\n",
      "\n",
      "See the caveats in the documentation: http://pandas.pydata.org/pandas-docs/stable/indexing.html#indexing-view-versus-copy\n",
      "  from ipykernel import kernelapp as app\n",
      "C:\\Users\\Laptop 1\\Anaconda3\\lib\\site-packages\\ipykernel_launcher.py:21: SettingWithCopyWarning: \n",
      "A value is trying to be set on a copy of a slice from a DataFrame.\n",
      "Try using .loc[row_indexer,col_indexer] = value instead\n",
      "\n",
      "See the caveats in the documentation: http://pandas.pydata.org/pandas-docs/stable/indexing.html#indexing-view-versus-copy\n"
     ]
    }
   ],
   "source": [
    "# summer months - 2017\n",
    "\n",
    "# during this period, a large number of trip records have birth year as only null,\n",
    "# and that would result in a comparatively large number of records being discarded.\n",
    "# Since we are not currently using age in this historical comparison, we are skipping this edit.\n",
    "\n",
    "x201706_df = pd.read_csv(\"201706-citibike-tripdata.csv\")\n",
    "x201706a_df =  x201706_df.loc[x201706_df[\"tripduration\"] < 43200, :]   # 12 hours\n",
    "x201706a_df[\"tripduration in minutes\"] =  x201706a_df[\"tripduration\"]/60;\n",
    "#x201706a_df[\"age\"] =   2018 - x201706a_df[\"birth year\"]\n",
    "#x201706a_df = x201706a_df.loc[x201706a_df[\"age\"] < 86, :]\n",
    "\n",
    "x201707_df = pd.read_csv(\"201707-citibike-tripdata.csv\")\n",
    "x201707a_df =  x201707_df.loc[x201707_df[\"tripduration\"] < 43200, :]   # 12 hours\n",
    "x201707a_df[\"tripduration in minutes\"] =  x201707a_df[\"tripduration\"]/60;\n",
    "#x201707a_df[\"age\"] =   2018 - x201707a_df[\"birth year\"]\n",
    "#x201707a_df = x201707a_df.loc[x201707a_df[\"age\"] < 86, :]\n",
    "\n",
    "x201708_df = pd.read_csv(\"201708-citibike-tripdata.csv\")\n",
    "x201708a_df =  x201708_df.loc[x201708_df[\"tripduration\"] < 43200, :]   # 12 hours\n",
    "x201708a_df[\"tripduration in minutes\"] =  x201708a_df[\"tripduration\"]/60;\n",
    "#x201708a_df[\"age\"] =   2018 - x201708a_df[\"birth year\"]\n",
    "#x201708a_df = x201708a_df.loc[x201708a_df[\"age\"] < 86, :]\n"
   ]
  },
  {
   "cell_type": "code",
   "execution_count": 22,
   "metadata": {},
   "outputs": [
    {
     "name": "stderr",
     "output_type": "stream",
     "text": [
      "C:\\Users\\Laptop 1\\Anaconda3\\lib\\site-packages\\ipykernel_launcher.py:4: SettingWithCopyWarning: \n",
      "A value is trying to be set on a copy of a slice from a DataFrame.\n",
      "Try using .loc[row_indexer,col_indexer] = value instead\n",
      "\n",
      "See the caveats in the documentation: http://pandas.pydata.org/pandas-docs/stable/indexing.html#indexing-view-versus-copy\n",
      "  after removing the cwd from sys.path.\n",
      "C:\\Users\\Laptop 1\\Anaconda3\\lib\\site-packages\\ipykernel_launcher.py:5: SettingWithCopyWarning: \n",
      "A value is trying to be set on a copy of a slice from a DataFrame.\n",
      "Try using .loc[row_indexer,col_indexer] = value instead\n",
      "\n",
      "See the caveats in the documentation: http://pandas.pydata.org/pandas-docs/stable/indexing.html#indexing-view-versus-copy\n",
      "  \"\"\"\n",
      "C:\\Users\\Laptop 1\\Anaconda3\\lib\\site-packages\\ipykernel_launcher.py:10: SettingWithCopyWarning: \n",
      "A value is trying to be set on a copy of a slice from a DataFrame.\n",
      "Try using .loc[row_indexer,col_indexer] = value instead\n",
      "\n",
      "See the caveats in the documentation: http://pandas.pydata.org/pandas-docs/stable/indexing.html#indexing-view-versus-copy\n",
      "  # Remove the CWD from sys.path while we load stuff.\n",
      "C:\\Users\\Laptop 1\\Anaconda3\\lib\\site-packages\\ipykernel_launcher.py:11: SettingWithCopyWarning: \n",
      "A value is trying to be set on a copy of a slice from a DataFrame.\n",
      "Try using .loc[row_indexer,col_indexer] = value instead\n",
      "\n",
      "See the caveats in the documentation: http://pandas.pydata.org/pandas-docs/stable/indexing.html#indexing-view-versus-copy\n",
      "  # This is added back by InteractiveShellApp.init_path()\n",
      "C:\\Users\\Laptop 1\\Anaconda3\\lib\\site-packages\\ipykernel_launcher.py:16: SettingWithCopyWarning: \n",
      "A value is trying to be set on a copy of a slice from a DataFrame.\n",
      "Try using .loc[row_indexer,col_indexer] = value instead\n",
      "\n",
      "See the caveats in the documentation: http://pandas.pydata.org/pandas-docs/stable/indexing.html#indexing-view-versus-copy\n",
      "  app.launch_new_instance()\n",
      "C:\\Users\\Laptop 1\\Anaconda3\\lib\\site-packages\\ipykernel_launcher.py:17: SettingWithCopyWarning: \n",
      "A value is trying to be set on a copy of a slice from a DataFrame.\n",
      "Try using .loc[row_indexer,col_indexer] = value instead\n",
      "\n",
      "See the caveats in the documentation: http://pandas.pydata.org/pandas-docs/stable/indexing.html#indexing-view-versus-copy\n"
     ]
    }
   ],
   "source": [
    "# summer months - 2018\n",
    "x201806_df = pd.read_csv(\"201806-citibike-tripdata.csv\")\n",
    "x201806a_df =  x201806_df.loc[x201806_df[\"tripduration\"] < 43200, :]   # 12 hours\n",
    "x201806a_df[\"tripduration in minutes\"] =  x201806a_df[\"tripduration\"]/60;\n",
    "x201806a_df[\"age\"] =   2018 - x201806a_df[\"birth year\"]\n",
    "x201806a_df = x201806a_df.loc[x201806a_df[\"age\"] < 86, :]\n",
    "\n",
    "x201807_df = pd.read_csv(\"201807-citibike-tripdata.csv\")\n",
    "x201807a_df =  x201807_df.loc[x201807_df[\"tripduration\"] < 43200, :]   # 12 hours\n",
    "x201807a_df[\"tripduration in minutes\"] =  x201807a_df[\"tripduration\"]/60;\n",
    "x201807a_df[\"age\"] =   2018 - x201807a_df[\"birth year\"]\n",
    "x201807a_df = x201807a_df.loc[x201807a_df[\"age\"] < 86, :]\n",
    "\n",
    "x201808_df = pd.read_csv(\"201808-citibike-tripdata.csv\")\n",
    "x201808a_df =  x201808_df.loc[x201808_df[\"tripduration\"] < 43200, :]   # 12 hours\n",
    "x201808a_df[\"tripduration in minutes\"] =  x201808a_df[\"tripduration\"]/60;\n",
    "x201808a_df[\"age\"] =   2018 - x201808a_df[\"birth year\"]\n",
    "x201808a_df = x201808a_df.loc[x201808a_df[\"age\"] < 86, :]\n"
   ]
  },
  {
   "cell_type": "code",
   "execution_count": 23,
   "metadata": {},
   "outputs": [],
   "source": [
    "frames = [x201712a_df, x201801a_df, x201802a_df]\n",
    "x2018winter_df = pd.concat(frames)\n"
   ]
  },
  {
   "cell_type": "code",
   "execution_count": 24,
   "metadata": {},
   "outputs": [],
   "source": [
    "frames = [x201706a_df, x201707a_df, x201708a_df]\n",
    "x2017summer_df = pd.concat(frames)\n"
   ]
  },
  {
   "cell_type": "code",
   "execution_count": 25,
   "metadata": {},
   "outputs": [],
   "source": [
    "frames = [x201806a_df, x201807a_df, x201808a_df]\n",
    "x2018summer_df = pd.concat(frames)\n"
   ]
  },
  {
   "cell_type": "code",
   "execution_count": 26,
   "metadata": {},
   "outputs": [],
   "source": [
    "x2018winter_df.to_csv(\"2018winter-citibike-tripdata.csv\", index=False, header=True)"
   ]
  },
  {
   "cell_type": "code",
   "execution_count": 27,
   "metadata": {},
   "outputs": [],
   "source": [
    "x2017summer_df.to_csv(\"2017summer-citibike-tripdata.csv\", index=False, header=True)"
   ]
  },
  {
   "cell_type": "code",
   "execution_count": 28,
   "metadata": {},
   "outputs": [],
   "source": [
    "x2018summer_df.to_csv(\"2018summer-citibike-tripdata.csv\", index=False, header=True)"
   ]
  },
  {
   "cell_type": "code",
   "execution_count": null,
   "metadata": {},
   "outputs": [],
   "source": []
  }
 ],
 "metadata": {
  "kernelspec": {
   "display_name": "Python 3",
   "language": "python",
   "name": "python3"
  },
  "language_info": {
   "codemirror_mode": {
    "name": "ipython",
    "version": 3
   },
   "file_extension": ".py",
   "mimetype": "text/x-python",
   "name": "python",
   "nbconvert_exporter": "python",
   "pygments_lexer": "ipython3",
   "version": "3.7.1"
  }
 },
 "nbformat": 4,
 "nbformat_minor": 2
}
